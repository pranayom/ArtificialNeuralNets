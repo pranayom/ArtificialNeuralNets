{
 "cells": [
  {
   "cell_type": "markdown",
   "metadata": {},
   "source": [
    "# To prevent scroll bars in Jupyter Notebook"
   ]
  },
  {
   "cell_type": "code",
   "execution_count": 1,
   "metadata": {},
   "outputs": [
    {
     "data": {
      "application/javascript": [
       "IPython.OutputArea.prototype._should_scroll = function(lines) {\n",
       "    return false;\n",
       "}"
      ],
      "text/plain": [
       "<IPython.core.display.Javascript object>"
      ]
     },
     "metadata": {},
     "output_type": "display_data"
    }
   ],
   "source": [
    "%%javascript\n",
    "IPython.OutputArea.prototype._should_scroll = function(lines) {\n",
    "    return false;\n",
    "}"
   ]
  },
  {
   "cell_type": "markdown",
   "metadata": {},
   "source": [
    "# Import Necessary Libraries"
   ]
  },
  {
   "cell_type": "code",
   "execution_count": 2,
   "metadata": {
    "_cell_guid": "4da579c3-ddf6-4f97-bae5-7d6720129a55",
    "_uuid": "6b1885b1147109d6089f6fd53fd54ec5d7cc1821"
   },
   "outputs": [
    {
     "name": "stderr",
     "output_type": "stream",
     "text": [
      "C:\\Users\\AppData\\Local\\Continuum\\Anaconda3\\lib\\site-packages\\sklearn\\cross_validation.py:44: DeprecationWarning: This module was deprecated in version 0.18 in favor of the model_selection module into which all the refactored classes and functions are moved. Also note that the interface of the new CV iterators are different from that of this module. This module will be removed in 0.20.\n",
      "  \"This module will be removed in 0.20.\", DeprecationWarning)\n"
     ]
    }
   ],
   "source": [
    "\n",
    "\n",
    "import numpy as np # linear algebra\n",
    "import pandas as pd # data processing, CSV file I/O (e.g. pd.read_csv)\n",
    "\n",
    "\n",
    "import matplotlib.pyplot as plt\n",
    "import seaborn as sns\n",
    "\n",
    "\n",
    "from sklearn.cross_validation import cross_val_score\n",
    "from sklearn.feature_selection import SelectKBest\n",
    "\n",
    "from sklearn.cross_validation import StratifiedShuffleSplit\n",
    "from sklearn.metrics import accuracy_score, roc_auc_score\n",
    "\n",
    "import os\n",
    "from __future__ import print_function\n",
    "\n",
    "from scipy import stats\n",
    "from sklearn.model_selection import GridSearchCV\n",
    "\n",
    "\n",
    "import math\n"
   ]
  },
  {
   "cell_type": "code",
   "execution_count": 3,
   "metadata": {
    "collapsed": true
   },
   "outputs": [],
   "source": [
    "#Change this datapath to YOUR respective folder\n",
    "\n",
    "os.chdir(\"C:\\\\Users\\\\Pranay\\\\Desktop\\\\Python a-z\\\\Neural Nets\")"
   ]
  },
  {
   "cell_type": "code",
   "execution_count": 4,
   "metadata": {
    "_uuid": "8ac1af558b85aee6f7c6cfa16df6a917e6b0775a"
   },
   "outputs": [
    {
     "data": {
      "text/html": [
       "<div>\n",
       "<style>\n",
       "    .dataframe thead tr:only-child th {\n",
       "        text-align: right;\n",
       "    }\n",
       "\n",
       "    .dataframe thead th {\n",
       "        text-align: left;\n",
       "    }\n",
       "\n",
       "    .dataframe tbody tr th {\n",
       "        vertical-align: top;\n",
       "    }\n",
       "</style>\n",
       "<table border=\"1\" class=\"dataframe\">\n",
       "  <thead>\n",
       "    <tr style=\"text-align: right;\">\n",
       "      <th></th>\n",
       "      <th>age</th>\n",
       "      <th>workclass</th>\n",
       "      <th>fnlwgt</th>\n",
       "      <th>education</th>\n",
       "      <th>education.num</th>\n",
       "      <th>marital.status</th>\n",
       "      <th>occupation</th>\n",
       "      <th>relationship</th>\n",
       "      <th>race</th>\n",
       "      <th>sex</th>\n",
       "      <th>capital.gain</th>\n",
       "      <th>capital.loss</th>\n",
       "      <th>hours.per.week</th>\n",
       "      <th>native.country</th>\n",
       "      <th>income</th>\n",
       "    </tr>\n",
       "  </thead>\n",
       "  <tbody>\n",
       "    <tr>\n",
       "      <th>0</th>\n",
       "      <td>90</td>\n",
       "      <td>?</td>\n",
       "      <td>77053</td>\n",
       "      <td>HS-grad</td>\n",
       "      <td>9</td>\n",
       "      <td>Widowed</td>\n",
       "      <td>?</td>\n",
       "      <td>Not-in-family</td>\n",
       "      <td>White</td>\n",
       "      <td>Female</td>\n",
       "      <td>0</td>\n",
       "      <td>4356</td>\n",
       "      <td>40</td>\n",
       "      <td>United-States</td>\n",
       "      <td>&lt;=50K</td>\n",
       "    </tr>\n",
       "    <tr>\n",
       "      <th>1</th>\n",
       "      <td>82</td>\n",
       "      <td>Private</td>\n",
       "      <td>132870</td>\n",
       "      <td>HS-grad</td>\n",
       "      <td>9</td>\n",
       "      <td>Widowed</td>\n",
       "      <td>Exec-managerial</td>\n",
       "      <td>Not-in-family</td>\n",
       "      <td>White</td>\n",
       "      <td>Female</td>\n",
       "      <td>0</td>\n",
       "      <td>4356</td>\n",
       "      <td>18</td>\n",
       "      <td>United-States</td>\n",
       "      <td>&lt;=50K</td>\n",
       "    </tr>\n",
       "    <tr>\n",
       "      <th>2</th>\n",
       "      <td>66</td>\n",
       "      <td>?</td>\n",
       "      <td>186061</td>\n",
       "      <td>Some-college</td>\n",
       "      <td>10</td>\n",
       "      <td>Widowed</td>\n",
       "      <td>?</td>\n",
       "      <td>Unmarried</td>\n",
       "      <td>Black</td>\n",
       "      <td>Female</td>\n",
       "      <td>0</td>\n",
       "      <td>4356</td>\n",
       "      <td>40</td>\n",
       "      <td>United-States</td>\n",
       "      <td>&lt;=50K</td>\n",
       "    </tr>\n",
       "    <tr>\n",
       "      <th>3</th>\n",
       "      <td>54</td>\n",
       "      <td>Private</td>\n",
       "      <td>140359</td>\n",
       "      <td>7th-8th</td>\n",
       "      <td>4</td>\n",
       "      <td>Divorced</td>\n",
       "      <td>Machine-op-inspct</td>\n",
       "      <td>Unmarried</td>\n",
       "      <td>White</td>\n",
       "      <td>Female</td>\n",
       "      <td>0</td>\n",
       "      <td>3900</td>\n",
       "      <td>40</td>\n",
       "      <td>United-States</td>\n",
       "      <td>&lt;=50K</td>\n",
       "    </tr>\n",
       "    <tr>\n",
       "      <th>4</th>\n",
       "      <td>41</td>\n",
       "      <td>Private</td>\n",
       "      <td>264663</td>\n",
       "      <td>Some-college</td>\n",
       "      <td>10</td>\n",
       "      <td>Separated</td>\n",
       "      <td>Prof-specialty</td>\n",
       "      <td>Own-child</td>\n",
       "      <td>White</td>\n",
       "      <td>Female</td>\n",
       "      <td>0</td>\n",
       "      <td>3900</td>\n",
       "      <td>40</td>\n",
       "      <td>United-States</td>\n",
       "      <td>&lt;=50K</td>\n",
       "    </tr>\n",
       "  </tbody>\n",
       "</table>\n",
       "</div>"
      ],
      "text/plain": [
       "   age workclass  fnlwgt     education  education.num marital.status  \\\n",
       "0   90         ?   77053       HS-grad              9        Widowed   \n",
       "1   82   Private  132870       HS-grad              9        Widowed   \n",
       "2   66         ?  186061  Some-college             10        Widowed   \n",
       "3   54   Private  140359       7th-8th              4       Divorced   \n",
       "4   41   Private  264663  Some-college             10      Separated   \n",
       "\n",
       "          occupation   relationship   race     sex  capital.gain  \\\n",
       "0                  ?  Not-in-family  White  Female             0   \n",
       "1    Exec-managerial  Not-in-family  White  Female             0   \n",
       "2                  ?      Unmarried  Black  Female             0   \n",
       "3  Machine-op-inspct      Unmarried  White  Female             0   \n",
       "4     Prof-specialty      Own-child  White  Female             0   \n",
       "\n",
       "   capital.loss  hours.per.week native.country income  \n",
       "0          4356              40  United-States  <=50K  \n",
       "1          4356              18  United-States  <=50K  \n",
       "2          4356              40  United-States  <=50K  \n",
       "3          3900              40  United-States  <=50K  \n",
       "4          3900              40  United-States  <=50K  "
      ]
     },
     "execution_count": 4,
     "metadata": {},
     "output_type": "execute_result"
    }
   ],
   "source": [
    "#Reading the data\n",
    "\n",
    "data = pd.read_csv(\"adult_Sai.csv\")\n",
    "data.head()"
   ]
  },
  {
   "cell_type": "code",
   "execution_count": 7,
   "metadata": {},
   "outputs": [
    {
     "data": {
      "image/png": "[encoded data removed]",
      "text/plain": [
       "<matplotlib.figure.Figure at 0xd2e3d68>"
      ]
     },
     "metadata": {},
     "output_type": "display_data"
    }
   ],
   "source": [
    "#Some basic EDA\n",
    "\n",
    "fig = plt.figure(figsize=(20,15))\n",
    "cols = 5\n",
    "rows = math.ceil(float(data.shape[1]) / cols)\n",
    "for i, column in enumerate(data.columns):\n",
    "    ax = fig.add_subplot(rows, cols, i + 1)\n",
    "    ax.set_title(column)\n",
    "    if data.dtypes[column] == np.object:\n",
    "        data[column].value_counts().plot(kind=\"bar\", axes=ax)\n",
    "    else:\n",
    "        data[column].hist(axes=ax)\n",
    "        plt.xticks(rotation=\"vertical\")\n",
    "plt.subplots_adjust(hspace=0.7, wspace=0.2)\n",
    "plt.show()\n"
   ]
  },
  {
   "cell_type": "code",
   "execution_count": 74,
   "metadata": {
    "_uuid": "923a11e348810eeee3ff794b32ea7079676a7478"
   },
   "outputs": [
    {
     "name": "stdout",
     "output_type": "stream",
     "text": [
      "workclass\n",
      "1836\n",
      "5.64%\n",
      "\n",
      "\n",
      "occupation\n",
      "1843\n",
      "5.66%\n",
      "\n",
      "\n",
      "native.country\n",
      "583\n",
      "1.79%\n",
      "\n",
      "\n"
     ]
    }
   ],
   "source": [
    "col_names = data.columns\n",
    "num_data = data.shape[0]\n",
    "for c in col_names:\n",
    "    num_non = data[c].isin([\"?\"]).sum()\n",
    "    if num_non > 0:\n",
    "        print (c)\n",
    "        print (num_non)\n",
    "        print (\"{0:.2f}%\".format(float(num_non) / num_data * 100))\n",
    "        print (\"\\n\")"
   ]
  },
  {
   "cell_type": "code",
   "execution_count": 75,
   "metadata": {
    "_uuid": "c6d5ff842416b728c3bc0f6ab942d6d5d8e6498f"
   },
   "outputs": [
    {
     "data": {
      "text/plain": [
       "(30162, 15)"
      ]
     },
     "execution_count": 75,
     "metadata": {},
     "output_type": "execute_result"
    }
   ],
   "source": [
    "data = data[data[\"workclass\"] != \"?\"]\n",
    "data = data[data[\"occupation\"] != \"?\"]\n",
    "data = data[data[\"native.country\"] != \"?\"]\n",
    "\n",
    "data.shape"
   ]
  },
  {
   "cell_type": "code",
   "execution_count": 76,
   "metadata": {
    "_uuid": "91fe277402250a04003a9dfdd369dc07fcf48893"
   },
   "outputs": [
    {
     "data": {
      "text/html": [
       "<div>\n",
       "<style>\n",
       "    .dataframe thead tr:only-child th {\n",
       "        text-align: right;\n",
       "    }\n",
       "\n",
       "    .dataframe thead th {\n",
       "        text-align: left;\n",
       "    }\n",
       "\n",
       "    .dataframe tbody tr th {\n",
       "        vertical-align: top;\n",
       "    }\n",
       "</style>\n",
       "<table border=\"1\" class=\"dataframe\">\n",
       "  <thead>\n",
       "    <tr style=\"text-align: right;\">\n",
       "      <th></th>\n",
       "      <th>age</th>\n",
       "      <th>fnlwgt</th>\n",
       "      <th>education.num</th>\n",
       "      <th>capital.gain</th>\n",
       "      <th>capital.loss</th>\n",
       "      <th>hours.per.week</th>\n",
       "    </tr>\n",
       "  </thead>\n",
       "  <tbody>\n",
       "    <tr>\n",
       "      <th>count</th>\n",
       "      <td>30162.000000</td>\n",
       "      <td>3.016200e+04</td>\n",
       "      <td>30162.000000</td>\n",
       "      <td>30162.000000</td>\n",
       "      <td>30162.000000</td>\n",
       "      <td>30162.000000</td>\n",
       "    </tr>\n",
       "    <tr>\n",
       "      <th>mean</th>\n",
       "      <td>38.437902</td>\n",
       "      <td>1.897938e+05</td>\n",
       "      <td>10.121312</td>\n",
       "      <td>1092.007858</td>\n",
       "      <td>88.372489</td>\n",
       "      <td>40.931238</td>\n",
       "    </tr>\n",
       "    <tr>\n",
       "      <th>std</th>\n",
       "      <td>13.134665</td>\n",
       "      <td>1.056530e+05</td>\n",
       "      <td>2.549995</td>\n",
       "      <td>7406.346497</td>\n",
       "      <td>404.298370</td>\n",
       "      <td>11.979984</td>\n",
       "    </tr>\n",
       "    <tr>\n",
       "      <th>min</th>\n",
       "      <td>17.000000</td>\n",
       "      <td>1.376900e+04</td>\n",
       "      <td>1.000000</td>\n",
       "      <td>0.000000</td>\n",
       "      <td>0.000000</td>\n",
       "      <td>1.000000</td>\n",
       "    </tr>\n",
       "    <tr>\n",
       "      <th>25%</th>\n",
       "      <td>28.000000</td>\n",
       "      <td>1.176272e+05</td>\n",
       "      <td>9.000000</td>\n",
       "      <td>0.000000</td>\n",
       "      <td>0.000000</td>\n",
       "      <td>40.000000</td>\n",
       "    </tr>\n",
       "    <tr>\n",
       "      <th>50%</th>\n",
       "      <td>37.000000</td>\n",
       "      <td>1.784250e+05</td>\n",
       "      <td>10.000000</td>\n",
       "      <td>0.000000</td>\n",
       "      <td>0.000000</td>\n",
       "      <td>40.000000</td>\n",
       "    </tr>\n",
       "    <tr>\n",
       "      <th>75%</th>\n",
       "      <td>47.000000</td>\n",
       "      <td>2.376285e+05</td>\n",
       "      <td>13.000000</td>\n",
       "      <td>0.000000</td>\n",
       "      <td>0.000000</td>\n",
       "      <td>45.000000</td>\n",
       "    </tr>\n",
       "    <tr>\n",
       "      <th>max</th>\n",
       "      <td>90.000000</td>\n",
       "      <td>1.484705e+06</td>\n",
       "      <td>16.000000</td>\n",
       "      <td>99999.000000</td>\n",
       "      <td>4356.000000</td>\n",
       "      <td>99.000000</td>\n",
       "    </tr>\n",
       "  </tbody>\n",
       "</table>\n",
       "</div>"
      ],
      "text/plain": [
       "                age        fnlwgt  education.num  capital.gain  capital.loss  \\\n",
       "count  30162.000000  3.016200e+04   30162.000000  30162.000000  30162.000000   \n",
       "mean      38.437902  1.897938e+05      10.121312   1092.007858     88.372489   \n",
       "std       13.134665  1.056530e+05       2.549995   7406.346497    404.298370   \n",
       "min       17.000000  1.376900e+04       1.000000      0.000000      0.000000   \n",
       "25%       28.000000  1.176272e+05       9.000000      0.000000      0.000000   \n",
       "50%       37.000000  1.784250e+05      10.000000      0.000000      0.000000   \n",
       "75%       47.000000  2.376285e+05      13.000000      0.000000      0.000000   \n",
       "max       90.000000  1.484705e+06      16.000000  99999.000000   4356.000000   \n",
       "\n",
       "       hours.per.week  \n",
       "count    30162.000000  \n",
       "mean        40.931238  \n",
       "std         11.979984  \n",
       "min          1.000000  \n",
       "25%         40.000000  \n",
       "50%         40.000000  \n",
       "75%         45.000000  \n",
       "max         99.000000  "
      ]
     },
     "execution_count": 76,
     "metadata": {},
     "output_type": "execute_result"
    }
   ],
   "source": [
    "#Checking the statistical numbers\n",
    "data.describe()"
   ]
  },
  {
   "cell_type": "code",
   "execution_count": 8,
   "metadata": {
    "_uuid": "d7cd20a17d098d90d73583f3ec7f73986c1b60dd"
   },
   "outputs": [
    {
     "name": "stdout",
     "output_type": "stream",
     "text": [
      "workclass\n",
      "Private             22696\n",
      "Self-emp-not-inc     2541\n",
      "Local-gov            2093\n",
      "?                    1836\n",
      "State-gov            1298\n",
      "Self-emp-inc         1116\n",
      "Federal-gov           960\n",
      "Without-pay            14\n",
      "Never-worked            7\n",
      "Name: workclass, dtype: int64\n",
      "race\n",
      "White                 27816\n",
      "Black                  3124\n",
      "Asian-Pac-Islander     1039\n",
      "Amer-Indian-Eskimo      311\n",
      "Other                   271\n",
      "Name: race, dtype: int64\n",
      "education\n",
      "HS-grad         10501\n",
      "Some-college     7291\n",
      "Bachelors        5355\n",
      "Masters          1723\n",
      "Assoc-voc        1382\n",
      "11th             1175\n",
      "Assoc-acdm       1067\n",
      "10th              933\n",
      "7th-8th           646\n",
      "Prof-school       576\n",
      "9th               514\n",
      "12th              433\n",
      "Doctorate         413\n",
      "5th-6th           333\n",
      "1st-4th           168\n",
      "Preschool          51\n",
      "Name: education, dtype: int64\n",
      "marital.status\n",
      "Married-civ-spouse       14976\n",
      "Never-married            10683\n",
      "Divorced                  4443\n",
      "Separated                 1025\n",
      "Widowed                    993\n",
      "Married-spouse-absent      418\n",
      "Married-AF-spouse           23\n",
      "Name: marital.status, dtype: int64\n",
      "occupation\n",
      "Prof-specialty       4140\n",
      "Craft-repair         4099\n",
      "Exec-managerial      4066\n",
      "Adm-clerical         3770\n",
      "Sales                3650\n",
      "Other-service        3295\n",
      "Machine-op-inspct    2002\n",
      "?                    1843\n",
      "Transport-moving     1597\n",
      "Handlers-cleaners    1370\n",
      "Farming-fishing       994\n",
      "Tech-support          928\n",
      "Protective-serv       649\n",
      "Priv-house-serv       149\n",
      "Armed-Forces            9\n",
      "Name: occupation, dtype: int64\n",
      "relationship\n",
      "Husband           13193\n",
      "Not-in-family      8305\n",
      "Own-child          5068\n",
      "Unmarried          3446\n",
      "Wife               1568\n",
      "Other-relative      981\n",
      "Name: relationship, dtype: int64\n",
      "sex\n",
      "Male      21790\n",
      "Female    10771\n",
      "Name: sex, dtype: int64\n",
      "native.country\n",
      "United-States                 29170\n",
      "Mexico                          643\n",
      "?                               583\n",
      "Philippines                     198\n",
      "Germany                         137\n",
      "Canada                          121\n",
      "Puerto-Rico                     114\n",
      "El-Salvador                     106\n",
      "India                           100\n",
      "Cuba                             95\n",
      "England                          90\n",
      "Jamaica                          81\n",
      "South                            80\n",
      "China                            75\n",
      "Italy                            73\n",
      "Dominican-Republic               70\n",
      "Vietnam                          67\n",
      "Guatemala                        64\n",
      "Japan                            62\n",
      "Poland                           60\n",
      "Columbia                         59\n",
      "Taiwan                           51\n",
      "Haiti                            44\n",
      "Iran                             43\n",
      "Portugal                         37\n",
      "Nicaragua                        34\n",
      "Peru                             31\n",
      "France                           29\n",
      "Greece                           29\n",
      "Ecuador                          28\n",
      "Ireland                          24\n",
      "Hong                             20\n",
      "Cambodia                         19\n",
      "Trinadad&Tobago                  19\n",
      "Thailand                         18\n",
      "Laos                             18\n",
      "Yugoslavia                       16\n",
      "Outlying-US(Guam-USVI-etc)       14\n",
      "Honduras                         13\n",
      "Hungary                          13\n",
      "Scotland                         12\n",
      "Holand-Netherlands                1\n",
      "Name: native.country, dtype: int64\n",
      "income\n",
      "<=50K    24720\n",
      ">50K      7841\n",
      "Name: income, dtype: int64\n"
     ]
    }
   ],
   "source": [
    "# frequency for categorical fields \n",
    "\n",
    "category_col =['workclass', 'race', 'education','marital.status', 'occupation',\n",
    "               'relationship', 'sex', 'native.country', 'income'] \n",
    "for c in category_col:\n",
    "    print (c)\n",
    "    print (data[c].value_counts())"
   ]
  },
  {
   "cell_type": "code",
   "execution_count": 9,
   "metadata": {
    "_uuid": "a618ad8bf0992027c6d8c254204dcc9fca5e466d"
   },
   "outputs": [
    {
     "data": {
      "text/plain": [
       "0.75919044255397561"
      ]
     },
     "execution_count": 9,
     "metadata": {},
     "output_type": "execute_result"
    }
   ],
   "source": [
    "data[\"income\"].value_counts()[0]*1.0 / data.shape[0]"
   ]
  },
  {
   "cell_type": "code",
   "execution_count": 10,
   "metadata": {
    "_uuid": "83ef260a4413e85de12a701c3f345ecb25706b91"
   },
   "outputs": [
    {
     "data": {
      "text/plain": [
       "0.24080955744602439"
      ]
     },
     "execution_count": 10,
     "metadata": {},
     "output_type": "execute_result"
    }
   ],
   "source": [
    "data[\"income\"].value_counts()[1]*1.0 / data.shape[0]"
   ]
  },
  {
   "cell_type": "code",
   "execution_count": 11,
   "metadata": {
    "_uuid": "070b0f68069b6f6eec2d651c44e52180781673ad"
   },
   "outputs": [
    {
     "data": {
      "text/html": [
       "<div>\n",
       "<style>\n",
       "    .dataframe thead tr:only-child th {\n",
       "        text-align: right;\n",
       "    }\n",
       "\n",
       "    .dataframe thead th {\n",
       "        text-align: left;\n",
       "    }\n",
       "\n",
       "    .dataframe tbody tr th {\n",
       "        vertical-align: top;\n",
       "    }\n",
       "</style>\n",
       "<table border=\"1\" class=\"dataframe\">\n",
       "  <thead>\n",
       "    <tr style=\"text-align: right;\">\n",
       "      <th></th>\n",
       "      <th>age</th>\n",
       "      <th>workclass</th>\n",
       "      <th>fnlwgt</th>\n",
       "      <th>education</th>\n",
       "      <th>education.num</th>\n",
       "      <th>marital.status</th>\n",
       "      <th>occupation</th>\n",
       "      <th>relationship</th>\n",
       "      <th>race</th>\n",
       "      <th>sex</th>\n",
       "      <th>capital.gain</th>\n",
       "      <th>capital.loss</th>\n",
       "      <th>hours.per.week</th>\n",
       "      <th>native.country</th>\n",
       "      <th>income</th>\n",
       "    </tr>\n",
       "  </thead>\n",
       "  <tbody>\n",
       "    <tr>\n",
       "      <th>0</th>\n",
       "      <td>90</td>\n",
       "      <td>0</td>\n",
       "      <td>77053</td>\n",
       "      <td>11</td>\n",
       "      <td>9</td>\n",
       "      <td>6</td>\n",
       "      <td>0</td>\n",
       "      <td>1</td>\n",
       "      <td>4</td>\n",
       "      <td>0</td>\n",
       "      <td>0</td>\n",
       "      <td>4356</td>\n",
       "      <td>40</td>\n",
       "      <td>39</td>\n",
       "      <td>0</td>\n",
       "    </tr>\n",
       "    <tr>\n",
       "      <th>1</th>\n",
       "      <td>82</td>\n",
       "      <td>4</td>\n",
       "      <td>132870</td>\n",
       "      <td>11</td>\n",
       "      <td>9</td>\n",
       "      <td>6</td>\n",
       "      <td>4</td>\n",
       "      <td>1</td>\n",
       "      <td>4</td>\n",
       "      <td>0</td>\n",
       "      <td>0</td>\n",
       "      <td>4356</td>\n",
       "      <td>18</td>\n",
       "      <td>39</td>\n",
       "      <td>0</td>\n",
       "    </tr>\n",
       "    <tr>\n",
       "      <th>2</th>\n",
       "      <td>66</td>\n",
       "      <td>0</td>\n",
       "      <td>186061</td>\n",
       "      <td>15</td>\n",
       "      <td>10</td>\n",
       "      <td>6</td>\n",
       "      <td>0</td>\n",
       "      <td>4</td>\n",
       "      <td>2</td>\n",
       "      <td>0</td>\n",
       "      <td>0</td>\n",
       "      <td>4356</td>\n",
       "      <td>40</td>\n",
       "      <td>39</td>\n",
       "      <td>0</td>\n",
       "    </tr>\n",
       "    <tr>\n",
       "      <th>3</th>\n",
       "      <td>54</td>\n",
       "      <td>4</td>\n",
       "      <td>140359</td>\n",
       "      <td>5</td>\n",
       "      <td>4</td>\n",
       "      <td>0</td>\n",
       "      <td>7</td>\n",
       "      <td>4</td>\n",
       "      <td>4</td>\n",
       "      <td>0</td>\n",
       "      <td>0</td>\n",
       "      <td>3900</td>\n",
       "      <td>40</td>\n",
       "      <td>39</td>\n",
       "      <td>0</td>\n",
       "    </tr>\n",
       "    <tr>\n",
       "      <th>4</th>\n",
       "      <td>41</td>\n",
       "      <td>4</td>\n",
       "      <td>264663</td>\n",
       "      <td>15</td>\n",
       "      <td>10</td>\n",
       "      <td>5</td>\n",
       "      <td>10</td>\n",
       "      <td>3</td>\n",
       "      <td>4</td>\n",
       "      <td>0</td>\n",
       "      <td>0</td>\n",
       "      <td>3900</td>\n",
       "      <td>40</td>\n",
       "      <td>39</td>\n",
       "      <td>0</td>\n",
       "    </tr>\n",
       "  </tbody>\n",
       "</table>\n",
       "</div>"
      ],
      "text/plain": [
       "   age  workclass  fnlwgt  education  education.num  marital.status  \\\n",
       "0   90          0   77053         11              9               6   \n",
       "1   82          4  132870         11              9               6   \n",
       "2   66          0  186061         15             10               6   \n",
       "3   54          4  140359          5              4               0   \n",
       "4   41          4  264663         15             10               5   \n",
       "\n",
       "   occupation  relationship  race  sex  capital.gain  capital.loss  \\\n",
       "0           0             1     4    0             0          4356   \n",
       "1           4             1     4    0             0          4356   \n",
       "2           0             4     2    0             0          4356   \n",
       "3           7             4     4    0             0          3900   \n",
       "4          10             3     4    0             0          3900   \n",
       "\n",
       "   hours.per.week  native.country  income  \n",
       "0              40              39       0  \n",
       "1              18              39       0  \n",
       "2              40              39       0  \n",
       "3              40              39       0  \n",
       "4              40              39       0  "
      ]
     },
     "execution_count": 11,
     "metadata": {},
     "output_type": "execute_result"
    }
   ],
   "source": [
    "for col in category_col:\n",
    "    b, c = np.unique(data[col], return_inverse=True) \n",
    "    data[col] = c\n",
    "\n",
    "data.head()"
   ]
  },
  {
   "cell_type": "code",
   "execution_count": 12,
   "metadata": {
    "_uuid": "7aef75c072889d0fb3a1b1f7b54bdb6d92259211"
   },
   "outputs": [
    {
     "data": {
      "text/html": [
       "<div>\n",
       "<style>\n",
       "    .dataframe thead tr:only-child th {\n",
       "        text-align: right;\n",
       "    }\n",
       "\n",
       "    .dataframe thead th {\n",
       "        text-align: left;\n",
       "    }\n",
       "\n",
       "    .dataframe tbody tr th {\n",
       "        vertical-align: top;\n",
       "    }\n",
       "</style>\n",
       "<table border=\"1\" class=\"dataframe\">\n",
       "  <thead>\n",
       "    <tr style=\"text-align: right;\">\n",
       "      <th></th>\n",
       "      <th>abs_corr</th>\n",
       "      <th>correlation</th>\n",
       "    </tr>\n",
       "    <tr>\n",
       "      <th>parameter</th>\n",
       "      <th></th>\n",
       "      <th></th>\n",
       "    </tr>\n",
       "  </thead>\n",
       "  <tbody>\n",
       "    <tr>\n",
       "      <th>education.num</th>\n",
       "      <td>0.335154</td>\n",
       "      <td>0.335154</td>\n",
       "    </tr>\n",
       "    <tr>\n",
       "      <th>relationship</th>\n",
       "      <td>0.250918</td>\n",
       "      <td>-0.250918</td>\n",
       "    </tr>\n",
       "    <tr>\n",
       "      <th>age</th>\n",
       "      <td>0.234037</td>\n",
       "      <td>0.234037</td>\n",
       "    </tr>\n",
       "    <tr>\n",
       "      <th>hours.per.week</th>\n",
       "      <td>0.229689</td>\n",
       "      <td>0.229689</td>\n",
       "    </tr>\n",
       "    <tr>\n",
       "      <th>capital.gain</th>\n",
       "      <td>0.223329</td>\n",
       "      <td>0.223329</td>\n",
       "    </tr>\n",
       "    <tr>\n",
       "      <th>sex</th>\n",
       "      <td>0.215980</td>\n",
       "      <td>0.215980</td>\n",
       "    </tr>\n",
       "    <tr>\n",
       "      <th>marital.status</th>\n",
       "      <td>0.199307</td>\n",
       "      <td>-0.199307</td>\n",
       "    </tr>\n",
       "    <tr>\n",
       "      <th>capital.loss</th>\n",
       "      <td>0.150526</td>\n",
       "      <td>0.150526</td>\n",
       "    </tr>\n",
       "    <tr>\n",
       "      <th>education</th>\n",
       "      <td>0.079317</td>\n",
       "      <td>0.079317</td>\n",
       "    </tr>\n",
       "    <tr>\n",
       "      <th>occupation</th>\n",
       "      <td>0.075468</td>\n",
       "      <td>0.075468</td>\n",
       "    </tr>\n",
       "    <tr>\n",
       "      <th>race</th>\n",
       "      <td>0.071846</td>\n",
       "      <td>0.071846</td>\n",
       "    </tr>\n",
       "    <tr>\n",
       "      <th>workclass</th>\n",
       "      <td>0.051604</td>\n",
       "      <td>0.051604</td>\n",
       "    </tr>\n",
       "    <tr>\n",
       "      <th>native.country</th>\n",
       "      <td>0.015840</td>\n",
       "      <td>0.015840</td>\n",
       "    </tr>\n",
       "    <tr>\n",
       "      <th>fnlwgt</th>\n",
       "      <td>0.009463</td>\n",
       "      <td>-0.009463</td>\n",
       "    </tr>\n",
       "  </tbody>\n",
       "</table>\n",
       "</div>"
      ],
      "text/plain": [
       "                abs_corr  correlation\n",
       "parameter                            \n",
       "education.num   0.335154     0.335154\n",
       "relationship    0.250918    -0.250918\n",
       "age             0.234037     0.234037\n",
       "hours.per.week  0.229689     0.229689\n",
       "capital.gain    0.223329     0.223329\n",
       "sex             0.215980     0.215980\n",
       "marital.status  0.199307    -0.199307\n",
       "capital.loss    0.150526     0.150526\n",
       "education       0.079317     0.079317\n",
       "occupation      0.075468     0.075468\n",
       "race            0.071846     0.071846\n",
       "workclass       0.051604     0.051604\n",
       "native.country  0.015840     0.015840\n",
       "fnlwgt          0.009463    -0.009463"
      ]
     },
     "execution_count": 12,
     "metadata": {},
     "output_type": "execute_result"
    }
   ],
   "source": [
    "col_names = data.columns\n",
    "\n",
    "param=[]\n",
    "correlation=[]\n",
    "abs_corr=[]\n",
    "\n",
    "for c in col_names:\n",
    "    #Check if binary or continuous\n",
    "    if c != \"income\":\n",
    "        if len(data[c].unique()) <= 2:\n",
    "            corr = stats.pearsonr(data['income'],data[c])[0]\n",
    "        else:\n",
    "            corr = stats.pointbiserialr(data['income'],data[c])[0]\n",
    "        param.append(c)\n",
    "        correlation.append(corr)\n",
    "        abs_corr.append(abs(corr))\n",
    "\n",
    "#Create dataframe for visualization\n",
    "param_df=pd.DataFrame({'correlation':correlation,'parameter':param, 'abs_corr':abs_corr})\n",
    "\n",
    "#Sort by absolute correlation\n",
    "param_df=param_df.sort_values(by=['abs_corr'], ascending=False)\n",
    "\n",
    "#Set parameter name as index\n",
    "param_df=param_df.set_index('parameter')\n",
    "\n",
    "param_df"
   ]
  },
  {
   "cell_type": "code",
   "execution_count": 13,
   "metadata": {
    "_uuid": "cce42c748a40e46fa73546c549059c4e797fc7cb",
    "collapsed": true
   },
   "outputs": [],
   "source": [
    "#Define X (Independent Variables) & Y Dependent Variable\n",
    "X = data.drop('income',axis=1)\n",
    "y = data['income']"
   ]
  },
  {
   "cell_type": "code",
   "execution_count": 14,
   "metadata": {
    "_uuid": "40e4884541df69bc0adbd497ce7a495e39ead6fc",
    "collapsed": true
   },
   "outputs": [],
   "source": [
    "from sklearn.model_selection import train_test_split\n",
    "X_train, X_test, y_train, y_test = train_test_split(X, y)\n"
   ]
  },
  {
   "cell_type": "code",
   "execution_count": 15,
   "metadata": {
    "_uuid": "3ec781a1608b48f44ccdb58e8e58afa041737638"
   },
   "outputs": [
    {
     "data": {
      "text/plain": [
       "StandardScaler(copy=True, with_mean=True, with_std=True)"
      ]
     },
     "execution_count": 15,
     "metadata": {},
     "output_type": "execute_result"
    }
   ],
   "source": [
    "from sklearn.preprocessing import StandardScaler\n",
    "scaler = StandardScaler()\n",
    "# Fit only to the training data\n",
    "scaler.fit(X_train)"
   ]
  },
  {
   "cell_type": "code",
   "execution_count": 16,
   "metadata": {
    "_uuid": "4662f81896ac9df1102614b8103cf38c0f6e03c1",
    "collapsed": true
   },
   "outputs": [],
   "source": [
    "StandardScaler(copy=True, with_mean=True, with_std=True)\n",
    "# Now apply the transformations to the data:\n",
    "X_train = scaler.transform(X_train)\n",
    "X_test = scaler.transform(X_test)"
   ]
  },
  {
   "cell_type": "code",
   "execution_count": 17,
   "metadata": {
    "_uuid": "520c1c566a80d2ec820ef544690d73b4062b58b4",
    "collapsed": true
   },
   "outputs": [],
   "source": [
    "from sklearn.neural_network import MLPClassifier\n",
    "mlp = MLPClassifier(hidden_layer_sizes=(13,13,13),max_iter=500)\n"
   ]
  },
  {
   "cell_type": "code",
   "execution_count": null,
   "metadata": {
    "collapsed": true
   },
   "outputs": [],
   "source": [
    "#Grid search to determine the best parameters\n",
    "#For more information about Grid search please refer to the following link:\n",
    "#https://machinelearningmastery.com/grid-search-hyperparameters-deep-learning-models-python-keras/"
   ]
  },
  {
   "cell_type": "code",
   "execution_count": 20,
   "metadata": {
    "collapsed": true
   },
   "outputs": [],
   "source": [
    "hidden_layer_sizes = [1, 5, 10, 15, 20, 25, 30,40]\n",
    "param_grid = dict(hidden_layer_sizes=hidden_layer_sizes)\n",
    "grid = GridSearchCV(estimator=mlp, param_grid=param_grid, n_jobs=-1) \n",
    "grid_result = grid.fit(X_train, y_train)"
   ]
  },
  {
   "cell_type": "code",
   "execution_count": 21,
   "metadata": {},
   "outputs": [
    {
     "name": "stdout",
     "output_type": "stream",
     "text": [
      "Best: 0.851147 using {'hidden_layer_sizes': 30}\n",
      "0.826085 (0.012754) with: {'hidden_layer_sizes': 1}\n",
      "0.847011 (0.005708) with: {'hidden_layer_sizes': 5}\n",
      "0.850000 (0.008010) with: {'hidden_layer_sizes': 10}\n",
      "0.849140 (0.006257) with: {'hidden_layer_sizes': 15}\n",
      "0.849795 (0.005856) with: {'hidden_layer_sizes': 20}\n",
      "0.849672 (0.005763) with: {'hidden_layer_sizes': 25}\n",
      "0.851147 (0.004210) with: {'hidden_layer_sizes': 30}\n",
      "0.850532 (0.004205) with: {'hidden_layer_sizes': 40}\n"
     ]
    }
   ],
   "source": [
    "# summarize results\n",
    "print(\"Best: %f using %s\" % (grid_result.best_score_, grid_result.best_params_))\n",
    "means = grid_result.cv_results_['mean_test_score']\n",
    "stds = grid_result.cv_results_['std_test_score']\n",
    "params = grid_result.cv_results_['params']\n",
    "for mean, stdev, param in zip(means, stds, params):\n",
    "    print(\"%f (%f) with: %r\" % (mean, stdev, param))"
   ]
  },
  {
   "cell_type": "code",
   "execution_count": 92,
   "metadata": {
    "collapsed": true
   },
   "outputs": [],
   "source": [
    "activation = [\"identity\", \"logistic\", \"tanh\", \"relu\"]\n",
    "param_grid = dict(activation = activation)\n",
    "grid = GridSearchCV(estimator=mlp, param_grid=param_grid, n_jobs=-1) \n",
    "grid_result = grid.fit(X_train, y_train)"
   ]
  },
  {
   "cell_type": "code",
   "execution_count": 93,
   "metadata": {},
   "outputs": [
    {
     "name": "stdout",
     "output_type": "stream",
     "text": [
      "Best: 0.843685 using {'activation': 'tanh'}\n",
      "0.818001 (0.005461) with: {'activation': 'identity'}\n",
      "0.842403 (0.004710) with: {'activation': 'logistic'}\n",
      "0.843685 (0.006170) with: {'activation': 'tanh'}\n",
      "0.840149 (0.004843) with: {'activation': 'relu'}\n"
     ]
    }
   ],
   "source": [
    "# summarize results\n",
    "print(\"Best: %f using %s\" % (grid_result.best_score_, grid_result.best_params_))\n",
    "means = grid_result.cv_results_['mean_test_score']\n",
    "stds = grid_result.cv_results_['std_test_score']\n",
    "params = grid_result.cv_results_['params']\n",
    "for mean, stdev, param in zip(means, stds, params):\n",
    "    print(\"%f (%f) with: %r\" % (mean, stdev, param))\n"
   ]
  },
  {
   "cell_type": "code",
   "execution_count": 94,
   "metadata": {
    "collapsed": true
   },
   "outputs": [],
   "source": [
    "solver = [\"lbfgs\", \"sgd\", \"adam\"]\n",
    "param_grid = dict(solver = solver)\n",
    "grid = GridSearchCV(estimator=mlp, param_grid=param_grid, n_jobs=-1) \n",
    "grid_result = grid.fit(X_train, y_train)"
   ]
  },
  {
   "cell_type": "code",
   "execution_count": 95,
   "metadata": {},
   "outputs": [
    {
     "name": "stdout",
     "output_type": "stream",
     "text": [
      "Best: 0.840767 using {'solver': 'adam'}\n",
      "0.834313 (0.002149) with: {'solver': 'lbfgs'}\n",
      "0.838557 (0.003539) with: {'solver': 'sgd'}\n",
      "0.840767 (0.003509) with: {'solver': 'adam'}\n"
     ]
    }
   ],
   "source": [
    "print(\"Best: %f using %s\" % (grid_result.best_score_, grid_result.best_params_))\n",
    "means = grid_result.cv_results_['mean_test_score']\n",
    "stds = grid_result.cv_results_['std_test_score']\n",
    "params = grid_result.cv_results_['params']\n",
    "for mean, stdev, param in zip(means, stds, params):\n",
    "    print(\"%f (%f) with: %r\" % (mean, stdev, param))"
   ]
  },
  {
   "cell_type": "code",
   "execution_count": 96,
   "metadata": {
    "collapsed": true
   },
   "outputs": [],
   "source": [
    "max_iter = [100, 200, 300, 400, 500, 600, 700,800]\n",
    "param_grid = dict(max_iter = max_iter)\n",
    "grid = GridSearchCV(estimator=mlp, param_grid=param_grid, n_jobs=-1) \n",
    "grid_result = grid.fit(X_train, y_train)"
   ]
  },
  {
   "cell_type": "code",
   "execution_count": 97,
   "metadata": {},
   "outputs": [
    {
     "name": "stdout",
     "output_type": "stream",
     "text": [
      "Best: 0.842226 using {'max_iter': 400}\n",
      "0.841696 (0.003932) with: {'max_iter': 100}\n",
      "0.840812 (0.005525) with: {'max_iter': 200}\n",
      "0.837540 (0.003064) with: {'max_iter': 300}\n",
      "0.842226 (0.004122) with: {'max_iter': 400}\n",
      "0.839883 (0.004450) with: {'max_iter': 500}\n",
      "0.840414 (0.006130) with: {'max_iter': 600}\n",
      "0.839662 (0.005733) with: {'max_iter': 700}\n",
      "0.840635 (0.005424) with: {'max_iter': 800}\n"
     ]
    }
   ],
   "source": [
    "print(\"Best: %f using %s\" % (grid_result.best_score_, grid_result.best_params_))\n",
    "means = grid_result.cv_results_['mean_test_score']\n",
    "stds = grid_result.cv_results_['std_test_score']\n",
    "params = grid_result.cv_results_['params']\n",
    "for mean, stdev, param in zip(means, stds, params):\n",
    "    print(\"%f (%f) with: %r\" % (mean, stdev, param))"
   ]
  },
  {
   "cell_type": "code",
   "execution_count": 22,
   "metadata": {
    "collapsed": true
   },
   "outputs": [],
   "source": [
    "#Using the best parameters from Grid Search to create the model\n",
    "from sklearn.neural_network import MLPClassifier\n",
    "mlp = MLPClassifier(activation='tanh',hidden_layer_sizes=(30,30,30),max_iter=400, solver ='adam')"
   ]
  },
  {
   "cell_type": "code",
   "execution_count": 24,
   "metadata": {
    "_uuid": "0256835b69ce348d235c5ecf0f1a95347d1ca687"
   },
   "outputs": [
    {
     "data": {
      "text/plain": [
       "MLPClassifier(activation='tanh', alpha=0.0001, batch_size='auto', beta_1=0.9,\n",
       "       beta_2=0.999, early_stopping=False, epsilon=1e-08,\n",
       "       hidden_layer_sizes=(30, 30, 30), learning_rate='constant',\n",
       "       learning_rate_init=0.001, max_iter=400, momentum=0.9,\n",
       "       nesterovs_momentum=True, power_t=0.5, random_state=None,\n",
       "       shuffle=True, solver='adam', tol=0.0001, validation_fraction=0.1,\n",
       "       verbose=False, warm_start=False)"
      ]
     },
     "execution_count": 24,
     "metadata": {},
     "output_type": "execute_result"
    }
   ],
   "source": [
    "mlp.fit(X_train,y_train)"
   ]
  },
  {
   "cell_type": "code",
   "execution_count": 25,
   "metadata": {
    "_uuid": "b10bf9e76e2ac26d775b9796221e7306d9378d39",
    "collapsed": true
   },
   "outputs": [],
   "source": [
    "predictions = mlp.predict(X_test)"
   ]
  },
  {
   "cell_type": "code",
   "execution_count": 26,
   "metadata": {
    "_uuid": "991afc1c8d990304b6869f816bb89363bd6da8f8",
    "scrolled": true
   },
   "outputs": [
    {
     "name": "stdout",
     "output_type": "stream",
     "text": [
      "[[5698  451]\n",
      " [ 816 1176]]\n",
      "             precision    recall  f1-score   support\n",
      "\n",
      "          0       0.87      0.93      0.90      6149\n",
      "          1       0.72      0.59      0.65      1992\n",
      "\n",
      "avg / total       0.84      0.84      0.84      8141\n",
      "\n"
     ]
    }
   ],
   "source": [
    "from sklearn.metrics import classification_report,confusion_matrix\n",
    "print(confusion_matrix(y_test,predictions))\n",
    "print(classification_report(y_test,predictions))"
   ]
  },
  {
   "cell_type": "code",
   "execution_count": 27,
   "metadata": {
    "_uuid": "21d0979abd29caa7bb931952d4d47292913d2aca"
   },
   "outputs": [
    {
     "data": {
      "text/plain": [
       "array([[  6.62585063e-02,  -4.21907873e-01,   1.60151748e-01,\n",
       "          1.15599684e-01,   1.38823199e-01,   3.91346442e-01,\n",
       "         -2.41480660e-02,  -5.20972731e-01,   4.34429141e-01,\n",
       "          3.14221511e-01,   6.54251796e-02,  -6.44441523e-02,\n",
       "          3.28323518e-01,   5.88444045e-01,   7.54690952e-01,\n",
       "         -1.46434878e-03,  -2.02742813e-03,   2.45452854e-01,\n",
       "          1.08163038e-01,  -9.34391377e-01,   7.13965132e-01,\n",
       "          2.96132854e-01,   1.58331954e-01,   2.57943044e-01,\n",
       "         -7.98729670e-03,  -2.97014033e-02,   2.63009317e-01,\n",
       "         -2.05559189e-01,  -8.81305389e-01,   1.24965981e-01],\n",
       "       [ -7.45585194e-02,  -6.51477317e-02,   2.22584219e-01,\n",
       "          4.68948917e-01,   9.13090721e-02,   1.73959694e-01,\n",
       "          5.66441297e-02,  -2.70672659e-01,  -2.64707518e-01,\n",
       "         -5.99132273e-01,  -4.13099456e-01,  -7.34093545e-01,\n",
       "          1.73278576e-01,   3.22301895e-01,   3.80170932e-01,\n",
       "         -2.67521848e-01,   3.39106899e-01,   9.33595299e-02,\n",
       "          1.13432601e-01,   3.18391184e-01,   1.97526376e-01,\n",
       "          2.96643352e-02,   3.56362242e-01,  -4.66821097e-01,\n",
       "          1.13292105e-01,   2.96986817e-01,   1.05449802e-01,\n",
       "         -1.13018690e-02,  -2.23841375e-01,   1.35997454e-01],\n",
       "       [  1.81909591e-02,   4.82266977e-01,  -1.60736922e-01,\n",
       "         -3.16548218e-01,  -2.85084368e-01,  -1.21434025e-01,\n",
       "         -1.18452990e-01,  -2.82128841e-01,  -8.21558254e-02,\n",
       "          5.27976299e-02,   1.41400874e-02,   1.57280705e-01,\n",
       "          1.44944042e-01,  -6.86944660e-02,  -5.98124050e-01,\n",
       "         -7.44830668e-02,   1.75745242e-01,   2.82497466e-01,\n",
       "          1.33958932e-02,   4.79231482e-02,   1.58649061e-01,\n",
       "          5.47671425e-01,   2.43223523e-01,  -9.74756413e-02,\n",
       "          7.55585944e-02,   5.38494128e-02,  -2.96953080e-02,\n",
       "         -3.64089818e-01,   6.19072202e-02,  -1.27717888e-01],\n",
       "       [ -3.07192787e-02,  -2.61370094e-01,   8.60049134e-02,\n",
       "         -1.19745237e-01,  -2.19468666e-01,  -3.57804286e-01,\n",
       "         -2.85207020e-02,  -4.20392547e-01,   5.95518234e-01,\n",
       "          1.36630770e-01,  -2.92606550e-02,   1.80715247e-01,\n",
       "         -1.09056758e-01,  -2.55011463e-01,  -1.01307384e-01,\n",
       "         -2.22954107e-01,  -3.78478079e-01,   3.25813996e-01,\n",
       "         -1.93930924e-02,  -4.71441469e-01,   2.70995877e-01,\n",
       "         -5.80614139e-01,   3.53155875e-01,  -1.19668056e-01,\n",
       "          1.05594125e-01,  -9.05368696e-02,   9.06820297e-02,\n",
       "         -3.19525908e-01,   1.43661154e-01,   1.53092504e-01],\n",
       "       [  4.93434612e-01,   6.61015433e-02,   4.65600117e-01,\n",
       "         -4.23099513e-01,  -2.68981113e-01,  -5.34930926e-01,\n",
       "         -4.51515469e-01,   1.04406713e-01,   3.28159477e-01,\n",
       "         -2.93230164e-01,  -1.42486954e-01,   2.66394401e-01,\n",
       "         -2.25730288e-02,   3.43571213e-01,   2.94783311e-01,\n",
       "         -4.51323352e-01,  -1.48730614e-01,   1.35584657e-01,\n",
       "         -1.30716328e-01,  -2.87589472e-01,  -1.33435419e-01,\n",
       "          3.35083356e-01,  -1.20684603e-01,  -1.05546064e-01,\n",
       "         -6.46640602e-01,   2.89949289e-01,   2.17255604e-01,\n",
       "          1.79994188e-01,  -1.01394006e-01,   1.16695711e-01],\n",
       "       [ -3.15552393e-01,  -1.48647445e-02,  -1.95634138e-01,\n",
       "          2.12851567e-01,   5.31467535e-01,   6.54782444e-01,\n",
       "         -5.37313357e-01,  -5.53388267e-01,   2.38299018e-01,\n",
       "          6.45264835e-01,  -3.77305606e-01,   3.39765497e-02,\n",
       "         -2.59298500e-01,   3.97348556e-02,  -2.07398011e-01,\n",
       "         -2.03463601e-02,  -1.82152972e-01,  -8.27710235e-02,\n",
       "         -1.66254666e+00,   2.88350518e-01,  -6.45087316e-01,\n",
       "          1.50612708e-01,  -2.38176776e-01,  -9.23171108e-01,\n",
       "          8.83312579e-02,   2.71258972e-01,  -3.94235381e-01,\n",
       "          3.38984726e-01,  -3.33522770e-01,   5.03473468e-02],\n",
       "       [  3.41594090e-01,  -1.01587119e-01,  -3.54852131e-01,\n",
       "         -1.90773295e-01,   2.30468331e-01,   3.73996307e-01,\n",
       "          1.11093003e-01,   1.52948785e-01,   1.96272780e-01,\n",
       "          5.63716647e-01,  -1.35744706e-01,  -5.99291223e-01,\n",
       "         -4.30659754e-01,   2.36823959e-01,   2.83713797e-01,\n",
       "          2.36685958e-02,  -1.18596723e-01,   3.55202491e-01,\n",
       "          1.94618742e-02,  -2.23212589e-01,  -4.66507206e-01,\n",
       "         -2.52139065e-01,   3.06004416e-01,   2.35196164e-01,\n",
       "         -4.80101621e-01,  -2.28080109e-01,  -5.45974892e-01,\n",
       "          7.55893899e-02,   2.90920415e-01,   3.93242275e-01],\n",
       "       [  3.94873894e-01,   1.11121368e-01,   4.86332784e-01,\n",
       "          2.50995040e-01,   3.89193673e-01,  -1.92914877e-02,\n",
       "         -3.00889477e-01,  -2.24492609e-01,  -9.99273703e-02,\n",
       "         -3.52861036e-02,   4.41758203e-01,   2.71735229e-03,\n",
       "         -2.37360021e-01,  -2.13032271e-01,   4.79395754e-01,\n",
       "          1.60714559e-02,  -2.62942716e-02,  -2.54199932e-01,\n",
       "          3.72306377e-01,  -4.67259251e-02,  -4.24753567e-01,\n",
       "          2.99381842e-01,  -1.59650996e-01,   1.61845074e-01,\n",
       "          1.55769406e-01,   2.26762126e-01,  -3.87569182e-01,\n",
       "         -4.74843619e-01,   2.85238977e-03,   6.23680482e-01],\n",
       "       [ -2.07958779e-02,   3.26071387e-01,   3.20865792e-01,\n",
       "         -1.55857753e-01,   1.08060270e-02,  -2.47795539e-01,\n",
       "          2.70811155e-01,  -8.59740040e-02,  -3.69853382e-02,\n",
       "          3.73302412e-01,  -8.25969613e-02,   2.60791315e-01,\n",
       "          6.27845322e-02,   1.14315335e-01,   4.31325753e-01,\n",
       "          1.25268666e-01,  -5.76996589e-02,  -3.63262634e-01,\n",
       "         -3.17476372e-02,   2.58702207e-02,   2.74921623e-01,\n",
       "         -9.22458575e-02,  -5.74671007e-02,  -3.61219027e-03,\n",
       "          1.92669893e-02,  -3.38580217e-02,   2.97616949e-02,\n",
       "          3.54176588e-02,   3.00614859e-01,  -1.95498578e-01],\n",
       "       [ -8.75737399e-02,   3.60828314e-01,  -1.94132643e-01,\n",
       "         -1.17353242e-01,  -5.22009914e-01,   2.05094054e-01,\n",
       "         -2.85324666e-01,   3.34848786e-01,  -4.63909942e-02,\n",
       "          3.09501866e-01,  -1.56000373e-01,  -1.45729525e-01,\n",
       "         -9.43134288e-02,   6.40434749e-02,  -2.47691153e-01,\n",
       "         -9.30558117e-02,  -4.99348978e-01,  -3.55591227e-01,\n",
       "         -1.26802702e-01,   1.07359793e-01,  -1.62813342e-01,\n",
       "         -7.08970773e-02,   2.02307710e-01,   5.51702788e-01,\n",
       "         -1.72804602e-02,   1.54400887e-01,   2.60361439e-02,\n",
       "          1.28856356e-01,   1.00792907e-01,   3.90609013e-01],\n",
       "       [  1.48127005e-01,  -1.57385196e-01,  -8.11459539e-01,\n",
       "         -2.01982338e-02,   1.25699708e+00,  -2.71881293e-01,\n",
       "         -1.69118730e-02,  -2.72627960e-01,   2.01494324e-01,\n",
       "         -1.83635772e-02,  -3.17933304e-01,   4.34772675e-01,\n",
       "          1.15974053e+00,   5.80320012e-01,  -1.17950707e-01,\n",
       "          9.50363180e-01,   9.98133375e-01,  -2.89839513e-01,\n",
       "          1.01078168e+00,  -7.24578783e-02,   2.75024360e-01,\n",
       "         -5.68113569e-01,   3.46467190e-01,  -3.57018802e-01,\n",
       "         -8.57786520e-01,  -6.20954737e-01,  -1.27937667e+00,\n",
       "         -8.30332322e-01,   1.89122275e-02,   1.33369377e+00],\n",
       "       [ -1.60739304e-01,   1.83368937e-01,   1.88430747e-02,\n",
       "          4.01875811e-01,  -1.62966103e-01,  -2.36136864e-01,\n",
       "         -1.50742415e-01,  -1.83170003e-01,   1.45657218e-02,\n",
       "         -3.50695765e-04,   4.61253679e-02,   1.19401157e-01,\n",
       "          8.31984741e-01,  -1.21700629e-01,   1.99646558e-01,\n",
       "          5.33989871e-01,  -3.25571825e-01,  -1.65030988e-01,\n",
       "          2.63326066e-01,  -2.27529069e-01,   1.46368242e-01,\n",
       "         -3.54292948e-01,  -8.33099904e-03,   2.52453131e-01,\n",
       "         -9.11178026e-02,   2.67589909e-02,  -1.69386749e-01,\n",
       "          9.72636843e-02,   2.92308335e-02,  -1.22254000e-01],\n",
       "       [  5.83306256e-01,   3.74077122e-01,  -2.63779491e-02,\n",
       "          2.08758832e-01,   2.49545278e-01,   1.04779117e-01,\n",
       "          1.44722585e-01,   4.09891081e-01,   1.12279270e+00,\n",
       "         -4.84467642e-01,   2.25373683e-02,   1.11922254e-01,\n",
       "          2.44295257e-01,   2.12488255e-01,   8.00480071e-01,\n",
       "         -1.86608299e-01,   2.98930161e-01,  -9.64080913e-02,\n",
       "          5.98505923e-03,  -3.27621065e-01,   6.42622432e-02,\n",
       "         -1.28032435e-01,   8.67629368e-01,  -7.90996243e-02,\n",
       "          6.85815993e-02,  -1.40212076e-01,  -9.10008315e-01,\n",
       "         -4.73092216e-02,  -5.67884243e-02,  -6.00139035e-01],\n",
       "       [ -1.61926597e-01,   2.75654357e-01,   1.26959869e-02,\n",
       "         -3.43482850e-01,   3.33400980e-01,   1.73379027e-01,\n",
       "          2.60645747e-01,  -4.17783484e-02,  -2.85884573e-02,\n",
       "          9.40198529e-02,   3.48521636e-01,   1.06512286e-01,\n",
       "          1.53062122e-02,   3.50212323e-01,  -5.30247360e-01,\n",
       "         -2.04538715e-01,   5.74328649e-02,   6.24145606e-01,\n",
       "         -9.76782119e-02,   1.11393517e-01,   3.19617824e-02,\n",
       "          4.74949518e-01,   1.81417234e-01,  -1.54455515e-01,\n",
       "          1.45724839e-02,   1.05535056e-01,  -2.16991214e-01,\n",
       "          2.05195462e-02,   2.03615305e-01,   2.23626826e-01]])"
      ]
     },
     "execution_count": 27,
     "metadata": {},
     "output_type": "execute_result"
    }
   ],
   "source": [
    "#Getting the weights ( there will be 3 layers with 30 coefficients)\n",
    "mlp.coefs_[0]"
   ]
  },
  {
   "cell_type": "code",
   "execution_count": 28,
   "metadata": {
    "_uuid": "8c45042c59565c19136d8779213d433061a945bf"
   },
   "outputs": [],
   "source": [
    "#Let me know if you have any queries- Mail me at pranaystb@gmail.com"
   ]
  }
 ],
 "metadata": {
  "kernelspec": {
   "display_name": "Python 3",
   "language": "python",
   "name": "python3"
  },
  "language_info": {
   "codemirror_mode": {
    "name": "ipython",
    "version": 3
   },
   "file_extension": ".py",
   "mimetype": "text/x-python",
   "name": "python",
   "nbconvert_exporter": "python",
   "pygments_lexer": "ipython3",
   "version": "3.6.1"
  }
 },
 "nbformat": 4,
 "nbformat_minor": 1
}
